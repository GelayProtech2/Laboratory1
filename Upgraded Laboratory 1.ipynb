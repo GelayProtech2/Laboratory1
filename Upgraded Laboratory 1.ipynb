{
 "cells": [
  {
   "cell_type": "markdown",
   "metadata": {},
   "source": [
    "# Linear Algebra (CpE210A)"
   ]
  },
  {
   "cell_type": "markdown",
   "metadata": {},
   "source": [
    "# Laboratory 1: Getting acquainted with Python"
   ]
  },
  {
   "cell_type": "markdown",
   "metadata": {},
   "source": [
    "Coded and submitted by:\n",
    "Samson,Angelica J.\n",
    "Section: 58010"
   ]
  },
  {
   "cell_type": "code",
   "execution_count": 1,
   "metadata": {},
   "outputs": [],
   "source": [
    "party = ['Charmander', 'Pidgey', 'Sandshrew', 'Ratata', 'Abra']\n",
    "levels = [15, 11, 18, 5, 14] \n",
    "\n",
    "\n"
   ]
  },
  {
   "cell_type": "code",
   "execution_count": 2,
   "metadata": {},
   "outputs": [
    {
     "name": "stdout",
     "output_type": "stream",
     "text": [
      "Charmander at level 15\n",
      "Pidgey at level 11\n",
      "Sandshrew at level 18\n",
      "Ratata at level 5\n",
      "Abra at level 14\n"
     ]
    }
   ],
   "source": [
    "for pokemon, level in zip(party, levels):\n",
    "    print(f'{pokemon} at level {level}')"
   ]
  },
  {
   "cell_type": "code",
   "execution_count": null,
   "metadata": {},
   "outputs": [],
   "source": [
    "#for i in range(5): print(f'{party[i]} at level {levels[i]}')"
   ]
  },
  {
   "cell_type": "code",
   "execution_count": null,
   "metadata": {},
   "outputs": [],
   "source": [
    "#for pokemon, level in zip(party, levels):\n",
    "    #print(pokemon + \" at level \" + str (level))"
   ]
  },
  {
   "cell_type": "code",
   "execution_count": 3,
   "metadata": {},
   "outputs": [],
   "source": [
    "reserves = [ \n",
    "    ('Onix', 10),\n",
    "    ('Slowpoke', 18),\n",
    "    ('Dialga', 2),\n",
    "    ('Magikarp', 32),\n",
    "    ('Feebas', 22),\n",
    "    ('Swablu', 19),\n",
    "    ('Regigigas', 3),\n",
    "    ('Unown', 50)\n",
    "]"
   ]
  },
  {
   "cell_type": "code",
   "execution_count": 4,
   "metadata": {},
   "outputs": [
    {
     "data": {
      "text/plain": [
       "['Unown', 'Magikarp', 'Feebas']"
      ]
     },
     "execution_count": 4,
     "metadata": {},
     "output_type": "execute_result"
    }
   ],
   "source": [
    "ranked = sorted (reserves, key = lambda x: x[1], reverse = True)[:3]\n",
    "picks = []\n",
    "for rank in ranked:\n",
    "    picks.append(rank[0])\n",
    "    \n",
    "    \n",
    "picks"
   ]
  },
  {
   "cell_type": "code",
   "execution_count": null,
   "metadata": {},
   "outputs": [],
   "source": [
    "#levels = lambda reserves: reserves [1]\n",
    "#reserves.sort(key = levels)\n"
   ]
  },
  {
   "cell_type": "code",
   "execution_count": null,
   "metadata": {},
   "outputs": [],
   "source": [
    "#party1 = ['Charmander', 'Pidgey', 'Sandshrew', 'Ratata', 'Abra'] # List of original party candidates \n",
    "#party2 = ['Charmander', 'Pidgey', 'Sandshrew', 'Ratata', 'Abra'] # List of original party candidates\n",
    "#party3 = ['Charmander', 'Pidgey', 'Sandshrew', 'Ratata', 'Abra'] # List of original party candidates\n",
    "\n",
    "\n",
    "#levels = lambda reserves: reserves [1]\n",
    "#reserves.sort(key = levels)\n",
    "\n",
    "\n",
    "#party1.extend([pokemon for pokemon in reserves [7:8]] )  #Add new pokemon to party1 from reserves list    \n",
    "#party2.extend([pokemon for pokemon in reserves [6:7]] )  #Add new pokemon to party2 from reserves list     \n",
    "#party3.extend([pokemon for pokemon in reserves [5:6]] )  #Add new pokemon to party3 from reserves list\n",
    "\n",
    "#print (party1)  # Print party1\n",
    "#print (party2)  # Print party2\n",
    "#print (party3)  # Print party3\n",
    "\n",
    "\n",
    "    \n"
   ]
  },
  {
   "cell_type": "code",
   "execution_count": 5,
   "metadata": {},
   "outputs": [],
   "source": [
    "party = ['Charmander', 'Pidgey', 'Sandshrew', 'Ratata', 'Abra']\n",
    "levels = [15, 11, 18, 5, 14] \n",
    "\n",
    "def create_party(party, candidates):\n",
    "    suggested_parties = []\n",
    "    new_p = party\n",
    "    for candidate in candidates:\n",
    "        new_p.insert(5, candidate)\n",
    "        suggested_parties.append(new_p[0:6])\n",
    "    return suggested_parties"
   ]
  },
  {
   "cell_type": "code",
   "execution_count": 6,
   "metadata": {},
   "outputs": [
    {
     "data": {
      "text/plain": [
       "[['Charmander', 'Pidgey', 'Sandshrew', 'Ratata', 'Abra', 'Unown'],\n",
       " ['Charmander', 'Pidgey', 'Sandshrew', 'Ratata', 'Abra', 'Magikarp'],\n",
       " ['Charmander', 'Pidgey', 'Sandshrew', 'Ratata', 'Abra', 'Feebas']]"
      ]
     },
     "execution_count": 6,
     "metadata": {},
     "output_type": "execute_result"
    }
   ],
   "source": [
    "create_party(party = party, candidates = picks)"
   ]
  }
 ],
 "metadata": {
  "kernelspec": {
   "display_name": "Python 3",
   "language": "python",
   "name": "python3"
  },
  "language_info": {
   "codemirror_mode": {
    "name": "ipython",
    "version": 3
   },
   "file_extension": ".py",
   "mimetype": "text/x-python",
   "name": "python",
   "nbconvert_exporter": "python",
   "pygments_lexer": "ipython3",
   "version": "3.8.3"
  }
 },
 "nbformat": 4,
 "nbformat_minor": 4
}
