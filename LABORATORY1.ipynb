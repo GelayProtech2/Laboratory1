{
 "cells": [
  {
   "cell_type": "code",
   "execution_count": 14,
   "metadata": {},
   "outputs": [
    {
     "name": "stdout",
     "output_type": "stream",
     "text": [
      "Charmander at level 15 \n",
      "Pidgey at level 11 \n",
      "Sandshrew at level 18\n",
      "Ratata at level 5 \n",
      "Abra at level 14\n"
     ]
    }
   ],
   "source": [
    "party = ['Charmander', 'Pidgey', 'Sandshrew', 'Ratata', 'Abra']\n",
    "levels = [15, 11, 18, 5, 14]\n",
    "P = party; \n",
    "L = levels;\n",
    "print(f\"{P[0]} at level {L[0]} \\n{P[1]} at level {L[1]} \\n{P[2]} at level {L[2]}\\n{P[3]} at level {L[3]} \\n{P[4]} at level {L[4]}\")\n",
    "    "
   ]
  },
  {
   "cell_type": "code",
   "execution_count": 15,
   "metadata": {},
   "outputs": [
    {
     "name": "stdout",
     "output_type": "stream",
     "text": [
      "['Unown', 'Magikarp', 'Feebas']\n"
     ]
    }
   ],
   "source": [
    "reserves = [ \n",
    "    ('Onix', 10),\n",
    "    ('Slowpoke', 18),\n",
    "    ('Dialga', 2),\n",
    "    ('Magikarp', 32),\n",
    "    ('Feebas', 22),\n",
    "    ('Swablu', 19),\n",
    "    ('Regigigas', 3),\n",
    "    ('Unown', 50)\n",
    "]\n",
    "print([reserves[7][0], reserves[3][0], reserves[4][0]])\n",
    "       "
   ]
  },
  {
   "cell_type": "code",
   "execution_count": 16,
   "metadata": {},
   "outputs": [
    {
     "name": "stdout",
     "output_type": "stream",
     "text": [
      "['Charmander', 'Pidgey', 'Sandshrew', 'Ratata', 'Abra', 'Unown']\n",
      "['Charmander', 'Pidgey', 'Sandshrew', 'Ratata', 'Abra', 'Magikarp']\n",
      "['Charmander', 'Pidgey', 'Sandshrew', 'Ratata', 'Abra', 'Feebas']\n"
     ]
    }
   ],
   "source": [
    "def create_party(party, candidates):\n",
    "    return suggested_parties\n",
    "\n",
    "party1 = ['Charmander', 'Pidgey', 'Sandshrew', 'Ratata', 'Abra'] # List of original party candidates \n",
    "party2 = ['Charmander', 'Pidgey', 'Sandshrew', 'Ratata', 'Abra'] # List of original party candidates\n",
    "party3 = ['Charmander', 'Pidgey', 'Sandshrew', 'Ratata', 'Abra'] # List of original party candidates\n",
    "\n",
    "\n",
    "party1.append('Unown')      #Add new pokemon to party1 from reserves list    \n",
    "party2.append('Magikarp')   #Add new pokemon to party2 from reserves list     \n",
    "party3.append('Feebas')     #Add new pokemon to party3 from reserves list\n",
    "\n",
    "suggested_parties = print (party1)  # Print party1\n",
    "suggested_parties = print (party2)  # Print party2\n",
    "suggested_parties = print (party3)  # Print party3\n",
    "\n",
    "\n",
    "    \n"
   ]
  }
 ],
 "metadata": {
  "kernelspec": {
   "display_name": "Python 3",
   "language": "python",
   "name": "python3"
  },
  "language_info": {
   "codemirror_mode": {
    "name": "ipython",
    "version": 3
   },
   "file_extension": ".py",
   "mimetype": "text/x-python",
   "name": "python",
   "nbconvert_exporter": "python",
   "pygments_lexer": "ipython3",
   "version": "3.8.3"
  }
 },
 "nbformat": 4,
 "nbformat_minor": 4
}
